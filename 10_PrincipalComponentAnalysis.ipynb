{
 "cells": [
  {
   "cell_type": "markdown",
   "id": "92b6fa14-3404-4cb9-ac60-772b0a4cb98e",
   "metadata": {},
   "source": [
    "# PRINCIPAL COMPONENT ANALYSIS"
   ]
  },
  {
   "cell_type": "markdown",
   "id": "2dc2cc3f-c8b0-4e99-97cf-dc6893e94d60",
   "metadata": {},
   "source": [
    "### Import libraries"
   ]
  },
  {
   "cell_type": "code",
   "execution_count": 1,
   "id": "70db1ef2-7a48-4d5a-9ac4-238317c2755f",
   "metadata": {},
   "outputs": [],
   "source": [
    "import warnings \n",
    "warnings.filterwarnings(\"ignore\")\n",
    "import numpy as np\n",
    "import pandas as pd\n",
    "import seaborn as sns\n",
    "import matplotlib.pyplot as plt\n",
    "from sklearn.datasets import load_digits\n",
    "from sklearn.preprocessing import StandardScaler\n",
    "from sklearn.decomposition import PCA"
   ]
  },
  {
   "cell_type": "markdown",
   "id": "13c91519-5349-4cf0-b5c8-b5d19ed35d2c",
   "metadata": {},
   "source": [
    "### Import the dataset"
   ]
  },
  {
   "cell_type": "code",
   "execution_count": 2,
   "id": "69eff4a0-0f9d-45ef-a5ee-0bb8b5a12dc9",
   "metadata": {},
   "outputs": [
    {
     "name": "stdout",
     "output_type": "stream",
     "text": [
      "[[ 0.  0.  5. ...  0.  0.  0.]\n",
      " [ 0.  0.  0. ... 10.  0.  0.]\n",
      " [ 0.  0.  0. ... 16.  9.  0.]\n",
      " ...\n",
      " [ 0.  0.  1. ...  6.  0.  0.]\n",
      " [ 0.  0.  2. ... 12.  0.  0.]\n",
      " [ 0.  0. 10. ... 12.  1.  0.]]\n",
      "[0 1 2 ... 8 9 8]\n",
      "['pixel_0_0', 'pixel_0_1', 'pixel_0_2', 'pixel_0_3', 'pixel_0_4', 'pixel_0_5', 'pixel_0_6', 'pixel_0_7', 'pixel_1_0', 'pixel_1_1', 'pixel_1_2', 'pixel_1_3', 'pixel_1_4', 'pixel_1_5', 'pixel_1_6', 'pixel_1_7', 'pixel_2_0', 'pixel_2_1', 'pixel_2_2', 'pixel_2_3', 'pixel_2_4', 'pixel_2_5', 'pixel_2_6', 'pixel_2_7', 'pixel_3_0', 'pixel_3_1', 'pixel_3_2', 'pixel_3_3', 'pixel_3_4', 'pixel_3_5', 'pixel_3_6', 'pixel_3_7', 'pixel_4_0', 'pixel_4_1', 'pixel_4_2', 'pixel_4_3', 'pixel_4_4', 'pixel_4_5', 'pixel_4_6', 'pixel_4_7', 'pixel_5_0', 'pixel_5_1', 'pixel_5_2', 'pixel_5_3', 'pixel_5_4', 'pixel_5_5', 'pixel_5_6', 'pixel_5_7', 'pixel_6_0', 'pixel_6_1', 'pixel_6_2', 'pixel_6_3', 'pixel_6_4', 'pixel_6_5', 'pixel_6_6', 'pixel_6_7', 'pixel_7_0', 'pixel_7_1', 'pixel_7_2', 'pixel_7_3', 'pixel_7_4', 'pixel_7_5', 'pixel_7_6', 'pixel_7_7']\n"
     ]
    }
   ],
   "source": [
    "digits = load_digits() # Dataset\n",
    "print(digits.data) \n",
    "print(digits.target) \n",
    "print(digits.feature_names) \n",
    "df = pd.DataFrame(digits['data'], columns = digits['feature_names'])"
   ]
  },
  {
   "cell_type": "markdown",
   "id": "b94c9154-d84d-4992-9297-2242e50db503",
   "metadata": {},
   "source": [
    "### Dataset Analysis\r\n"
   ]
  },
  {
   "cell_type": "code",
   "execution_count": 3,
   "id": "30a29a16-4012-4b10-894f-23e90361c775",
   "metadata": {},
   "outputs": [
    {
     "name": "stdout",
     "output_type": "stream",
     "text": [
      "   pixel_0_0  pixel_0_1  pixel_0_2  pixel_0_3  pixel_0_4  pixel_0_5  \\\n",
      "0        0.0        0.0        5.0       13.0        9.0        1.0   \n",
      "1        0.0        0.0        0.0       12.0       13.0        5.0   \n",
      "2        0.0        0.0        0.0        4.0       15.0       12.0   \n",
      "3        0.0        0.0        7.0       15.0       13.0        1.0   \n",
      "4        0.0        0.0        0.0        1.0       11.0        0.0   \n",
      "\n",
      "   pixel_0_6  pixel_0_7  pixel_1_0  pixel_1_1  ...  pixel_6_6  pixel_6_7  \\\n",
      "0        0.0        0.0        0.0        0.0  ...        0.0        0.0   \n",
      "1        0.0        0.0        0.0        0.0  ...        0.0        0.0   \n",
      "2        0.0        0.0        0.0        0.0  ...        5.0        0.0   \n",
      "3        0.0        0.0        0.0        8.0  ...        9.0        0.0   \n",
      "4        0.0        0.0        0.0        0.0  ...        0.0        0.0   \n",
      "\n",
      "   pixel_7_0  pixel_7_1  pixel_7_2  pixel_7_3  pixel_7_4  pixel_7_5  \\\n",
      "0        0.0        0.0        6.0       13.0       10.0        0.0   \n",
      "1        0.0        0.0        0.0       11.0       16.0       10.0   \n",
      "2        0.0        0.0        0.0        3.0       11.0       16.0   \n",
      "3        0.0        0.0        7.0       13.0       13.0        9.0   \n",
      "4        0.0        0.0        0.0        2.0       16.0        4.0   \n",
      "\n",
      "   pixel_7_6  pixel_7_7  \n",
      "0        0.0        0.0  \n",
      "1        0.0        0.0  \n",
      "2        9.0        0.0  \n",
      "3        0.0        0.0  \n",
      "4        0.0        0.0  \n",
      "\n",
      "[5 rows x 64 columns]\n",
      "(1797, 64)\n"
     ]
    }
   ],
   "source": [
    "print(df.head())\n",
    "print(df.shape)"
   ]
  },
  {
   "cell_type": "markdown",
   "id": "0527d9aa-341a-4c0a-9666-a55b1a0376a5",
   "metadata": {},
   "source": [
    "### Preparing for PCA"
   ]
  },
  {
   "cell_type": "code",
   "execution_count": 4,
   "id": "9d8f1bc8-cfda-4c0e-80bb-29594f4be371",
   "metadata": {},
   "outputs": [],
   "source": [
    "scaler = StandardScaler()\n",
    "scaled_data = scaler.fit_transform(df)\n",
    "df_scaled = pd.DataFrame(scaled_data, columns = digits['feature_names'])"
   ]
  },
  {
   "cell_type": "code",
   "execution_count": 5,
   "id": "eb57bd70-6a83-4893-8b5f-5cfd5a9cca34",
   "metadata": {},
   "outputs": [
    {
     "name": "stdout",
     "output_type": "stream",
     "text": [
      "   pixel_0_0  pixel_0_1  pixel_0_2  pixel_0_3  pixel_0_4  pixel_0_5  \\\n",
      "0        0.0  -0.335016  -0.043081   0.274072  -0.664478  -0.844129   \n",
      "1        0.0  -0.335016  -1.094937   0.038648   0.268751  -0.138020   \n",
      "2        0.0  -0.335016  -1.094937  -1.844742   0.735366   1.097673   \n",
      "3        0.0  -0.335016   0.377661   0.744919   0.268751  -0.844129   \n",
      "4        0.0  -0.335016  -1.094937  -2.551014  -0.197863  -1.020657   \n",
      "\n",
      "   pixel_0_6  pixel_0_7  pixel_1_0  pixel_1_1  ...  pixel_6_6  pixel_6_7  \\\n",
      "0  -0.409724  -0.125023  -0.059078  -0.624009  ...  -0.757436  -0.209785   \n",
      "1  -0.409724  -0.125023  -0.059078  -0.624009  ...  -0.757436  -0.209785   \n",
      "2  -0.409724  -0.125023  -0.059078  -0.624009  ...   0.259230  -0.209785   \n",
      "3  -0.409724  -0.125023  -0.059078   1.879691  ...   1.072563  -0.209785   \n",
      "4  -0.409724  -0.125023  -0.059078  -0.624009  ...  -0.757436  -0.209785   \n",
      "\n",
      "   pixel_7_0  pixel_7_1  pixel_7_2  pixel_7_3  pixel_7_4  pixel_7_5  \\\n",
      "0  -0.023596  -0.299081   0.086719   0.208293  -0.366771  -1.146647   \n",
      "1  -0.023596  -0.299081  -1.089383  -0.249010   0.849632   0.548561   \n",
      "2  -0.023596  -0.299081  -1.089383  -2.078218  -0.164037   1.565686   \n",
      "3  -0.023596  -0.299081   0.282736   0.208293   0.241430   0.379040   \n",
      "4  -0.023596  -0.299081  -1.089383  -2.306869   0.849632  -0.468564   \n",
      "\n",
      "   pixel_7_6  pixel_7_7  \n",
      "0  -0.505670  -0.196008  \n",
      "1  -0.505670  -0.196008  \n",
      "2   1.695137  -0.196008  \n",
      "3  -0.505670  -0.196008  \n",
      "4  -0.505670  -0.196008  \n",
      "\n",
      "[5 rows x 64 columns]\n"
     ]
    }
   ],
   "source": [
    "print(df_scaled.head())"
   ]
  },
  {
   "cell_type": "markdown",
   "id": "23d424ea-3242-4641-9905-f799611d5321",
   "metadata": {},
   "source": [
    "### PCA with two components"
   ]
  },
  {
   "cell_type": "markdown",
   "id": "82fc9c01-5617-497f-9e04-ac3dca8e7e63",
   "metadata": {},
   "source": [
    "### Instantiate and fit the model"
   ]
  },
  {
   "cell_type": "code",
   "execution_count": 6,
   "id": "b85834eb-86d5-4c91-9c2a-af8153e84f8c",
   "metadata": {},
   "outputs": [
    {
     "name": "stdout",
     "output_type": "stream",
     "text": [
      "   First Component  Second Component\n",
      "0        -1.914214         -0.954502\n",
      "1        -0.588980          0.924636\n",
      "2        -1.302039         -0.317189\n",
      "3         3.020770         -0.868772\n",
      "4        -4.528949         -1.093480\n"
     ]
    },
    {
     "data": {
      "text/plain": [
       "array([0.12033916, 0.21594971])"
      ]
     },
     "execution_count": 6,
     "metadata": {},
     "output_type": "execute_result"
    }
   ],
   "source": [
    "pca = PCA(n_components = 2) \n",
    "df_pca = pca.fit_transform(df_scaled)\n",
    "\n",
    "component_df = pd.DataFrame(data = df_pca, columns=['First Component','Second Component'])\n",
    "print(component_df.head())\n",
    "\n",
    "pca.explained_variance_\n",
    "\n",
    "pca.explained_variance_ratio_\n",
    "\n",
    "np.cumsum(pca.explained_variance_ratio_)"
   ]
  },
  {
   "cell_type": "markdown",
   "id": "b7585bd8-01c4-4de6-8716-e52aa16b650a",
   "metadata": {},
   "source": [
    "### PCA with four components\r\n"
   ]
  },
  {
   "cell_type": "code",
   "execution_count": 7,
   "id": "34c85c20-4a81-4706-bc92-00f5c011ef9a",
   "metadata": {},
   "outputs": [
    {
     "name": "stdout",
     "output_type": "stream",
     "text": [
      "   First Component  Second Component  Third Component  Fourth Component\n",
      "0        -1.914214         -0.954502        -3.946035         -2.028723\n",
      "1        -0.588980          0.924636         3.924755          1.779850\n",
      "2        -1.302039         -0.317189         3.023333          2.043376\n",
      "3         3.020770         -0.868772        -0.801744          2.187039\n",
      "4        -4.528949         -1.093480         0.973121          1.419510\n"
     ]
    },
    {
     "data": {
      "text/plain": [
       "array([0.12033916, 0.21594971, 0.30039385, 0.36537793])"
      ]
     },
     "execution_count": 7,
     "metadata": {},
     "output_type": "execute_result"
    }
   ],
   "source": [
    "pca = PCA(n_components = 4) \n",
    "df_pca = pca.fit_transform(df_scaled)\n",
    "\n",
    "component_df = pd.DataFrame(data = df_pca, columns=['First Component','Second Component','Third Component','Fourth Component'])\n",
    "print(component_df.head())\n",
    "\n",
    "pca.explained_variance_\n",
    "\n",
    "pca.explained_variance_ratio_\n",
    "\n",
    "np.cumsum(pca.explained_variance_ratio_)"
   ]
  }
 ],
 "metadata": {
  "kernelspec": {
   "display_name": "Python 3 (ipykernel)",
   "language": "python",
   "name": "python3"
  },
  "language_info": {
   "codemirror_mode": {
    "name": "ipython",
    "version": 3
   },
   "file_extension": ".py",
   "mimetype": "text/x-python",
   "name": "python",
   "nbconvert_exporter": "python",
   "pygments_lexer": "ipython3",
   "version": "3.11.5"
  }
 },
 "nbformat": 4,
 "nbformat_minor": 5
}
